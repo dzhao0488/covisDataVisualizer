{
 "cells": [
  {
   "cell_type": "code",
   "execution_count": 238,
   "metadata": {
    "metadata": {}
   },
   "outputs": [
    {
     "data": {
      "text/html": [
       "        <script type=\"text/javascript\">\n",
       "        window.PlotlyConfig = {MathJaxConfig: 'local'};\n",
       "        if (window.MathJax && window.MathJax.Hub && window.MathJax.Hub.Config) {window.MathJax.Hub.Config({SVG: {font: \"STIX-Web\"}});}\n",
       "        if (typeof require !== 'undefined') {\n",
       "        require.undef(\"plotly\");\n",
       "        requirejs.config({\n",
       "            paths: {\n",
       "                'plotly': ['https://cdn.plot.ly/plotly-2.32.0.min']\n",
       "            }\n",
       "        });\n",
       "        require(['plotly'], function(Plotly) {\n",
       "            window._Plotly = Plotly;\n",
       "        });\n",
       "        }\n",
       "        </script>\n",
       "        "
      ]
     },
     "metadata": {},
     "output_type": "display_data"
    }
   ],
   "source": [
    "import scipy\n",
    "from scipy.interpolate import griddata\n",
    "import matplotlib.pyplot as plt\n",
    "import matplotlib.colors as mcolors\n",
    "from mpl_toolkits.mplot3d import Axes3D\n",
    "import numpy as np\n",
    "import plotly.graph_objects as go\n",
    "import plotly.io as pio\n",
    "pio.renderers.default = 'notebook'\n",
    "from plotly.offline import init_notebook_mode\n",
    "init_notebook_mode(connected=True)"
   ]
  },
  {
   "cell_type": "code",
   "execution_count": 237,
   "metadata": {
    "metadata": {}
   },
   "outputs": [],
   "source": [
    "def convertDiffuseFile(fileInName):   \n",
    "    fileContents = scipy.io.loadmat(fileInName)\n",
    "    covisDict = {}\n",
    "    covisDict['header'] = fileContents['__header__'].decode('utf-8')\n",
    "    covisDict['version'] = fileContents['__version__']\n",
    "    covisDict['globals'] = fileContents['__globals__']\n",
    "    covis = fileContents['covis'][0][0]\n",
    "    for name in covis.dtype.names:\n",
    "        covisDict[name] = covis[name]\n",
    "    \n",
    "    print(f'{fileInName} has been converted')\n",
    "    return covisDict"
   ]
  },
  {
   "cell_type": "code",
   "execution_count": 239,
   "metadata": {},
   "outputs": [],
   "source": [
    "def convertImagingFile(fileInName):\n",
    "    fileContents = scipy.io.loadmat(fileInName)\n",
    "    covisDict = {}\n",
    "    covisDict['header'] = fileContents['__header__'].decode('utf-8')\n",
    "    covisDict['version'] = fileContents['__version__']\n",
    "    covisDict['globals'] = fileContents['__globals__']\n",
    "    covis = fileContents['imaging'][0][0]\n",
    "    for name in covis.dtype.names:\n",
    "        covisDict[name] = covis[name]\n",
    "    \n",
    "    print(f'{fileInName} has been converted')\n",
    "    return covisDict"
   ]
  },
  {
   "cell_type": "code",
   "execution_count": 240,
   "metadata": {},
   "outputs": [],
   "source": [
    "def readCoords2D(fileInName):\n",
    "    covisDict = convertDiffuseFile(fileInName)\n",
    "    wList = [w for w in covisDict['grid'][0][0][0]['w']]\n",
    "    xList = [x for x in covisDict['grid'][0][0][0]['x']]\n",
    "    yList = [y for y in covisDict['grid'][0][0][0]['y']]\n",
    "    vList = [v for v in covisDict['grid'][0][0][0]['v']]\n",
    "    coordsDict = {'xList': xList, 'yList': yList, 'vList': vList, 'wList': wList}\n",
    "    return coordsDict"
   ]
  },
  {
   "cell_type": "code",
   "execution_count": 241,
   "metadata": {},
   "outputs": [],
   "source": [
    "def readCoords3D(fileInName, dataVal):\n",
    "    covisDict = convertImagingFile(fileInName)\n",
    "    xList = [x for x in covisDict['grid'][0][0]['x']]\n",
    "    yList = [y for y in covisDict['grid'][0][0]['y']]\n",
    "    zList = [z for z in covisDict['grid'][0][0]['z']]\n",
    "    vList = [v for v in covisDict['grid'][0][0][f'{dataVal}']]\n",
    "    wList = [w for w in covisDict['grid'][0][0]['w']]\n",
    "    coordsDict = {'xList': xList, 'yList': yList, 'zList': zList, 'vList': vList, 'wList': wList}\n",
    "    return coordsDict"
   ]
  },
  {
   "cell_type": "code",
   "execution_count": 254,
   "metadata": {},
   "outputs": [],
   "source": [
    "def readCoordsBathymetry(bathyFileInName, diffuseFileInName):\n",
    "    bathyDict = convertDiffuseFile(bathyFileInName)\n",
    "    diffuseDict = convertDiffuseFile(diffuseFileInName)\n",
    "    xList = [x for x in diffuseDict['grid'][0][0][0]['x']]\n",
    "    yList = [y for y in diffuseDict['grid'][0][0][0]['y']]\n",
    "    zList = [z for z in bathyDict['grid'][0][0]['v']]\n",
    "    vList = [v for v in diffuseDict['grid'][0][0][0]['v']]\n",
    "    coordsDict = {'xList': xList, 'yList': yList, 'zList': zList, 'vList': vList}\n",
    "    return coordsDict"
   ]
  },
  {
   "cell_type": "code",
   "execution_count": 276,
   "metadata": {},
   "outputs": [],
   "source": [
    "def createCoordsOfInterest(fileInName, opt1 = '2', opt2 = 'Ia', bathyFile = 0):\n",
    "    if opt1 == '2':\n",
    "        coordsDict = readCoords2D(fileInName)\n",
    "        coordsDict = {key: np.concatenate(coordsDict[key]).flatten() for key in coordsDict.keys()}\n",
    "\n",
    "    elif opt1 == '3':\n",
    "        coordsDict = readCoords3D(fileInName, opt2)\n",
    "        coordsDict = {key: np.concatenate(coordsDict[key]).flatten() for key in coordsDict.keys()}\n",
    "\n",
    "    elif opt1 == '4':\n",
    "        coordsDict = readCoordsBathymetry(bathyFile, fileInName)\n",
    "        coordsDict = {key: np.concatenate(coordsDict[key]).flatten() for key in coordsDict.keys()}\n",
    "        for key in coordsDict.keys():\n",
    "            coordsDict[key] = coordsDict[key][:len(coordsDict['zList'])]\n",
    "    \n",
    "    mask = coordsDict['vList'] != 0\n",
    "    coordsDict = {key: coordsDict[key][mask] for key in coordsDict.keys()}\n",
    "    return coordsDict"
   ]
  },
  {
   "cell_type": "code",
   "execution_count": 296,
   "metadata": {},
   "outputs": [],
   "source": [
    "def plotDiffuse2DV1(fileInName):\n",
    "    coordsOfInterest = createCoordsOfInterest(fileInName)\n",
    "    plt.figure(figsize=(8, 6))\n",
    "    flatV = np.concatenate([arr.flatten() for arr in coordsOfInterest['vList']])\n",
    "    max = np.amax(flatV)\n",
    "    min = np.amin(flatV) + 10e-10\n",
    "    norm = mcolors.LogNorm(vmin = min, vmax = max)\n",
    "    scatter = plt.scatter(coordsOfInterest['xList'], coordsOfInterest['yList'], c = coordsOfInterest['vList'], cmap = 'viridis', norm = norm)\n",
    "\n",
    "    cbar = plt.colorbar(scatter)\n",
    "    cbar.set_label('Data Values')\n",
    "\n",
    "    plt.xlabel('East of COVIS (m)')\n",
    "    plt.ylabel('North of COVIS (m)')\n",
    "    plt.title(fileInName.split('\\\\')[-1])\n",
    "    plt.show()\n"
   ]
  },
  {
   "cell_type": "code",
   "execution_count": 298,
   "metadata": {},
   "outputs": [],
   "source": [
    "def plotDiffuse2DV2(fileInName):\n",
    "    coordsOfInterest = createCoordsOfInterest(fileInName)\n",
    "    plt.figure(figsize=(8, 6))\n",
    "    scatter = plt.scatter(coordsOfInterest['xList'], coordsOfInterest['yList'], c=coordsOfInterest['vList'], cmap = 'viridis', vmin=0, vmax=0.00005)\n",
    "\n",
    "    cbar = plt.colorbar(scatter)\n",
    "    cbar.set_label('Data Values')\n",
    "\n",
    "    plt.xlabel('East of COVIS (m)')\n",
    "    plt.ylabel('North of COVIS (m)')\n",
    "    plt.title(fileInName.split('\\\\')[-1])\n",
    "    plt.show()"
   ]
  },
  {
   "cell_type": "code",
   "execution_count": null,
   "metadata": {},
   "outputs": [],
   "source": [
    "plotDiffuse2DV1(r'matFiles\\COVIS-20230701T003002-diffuse1.mat')\n",
    "plotDiffuse2DV2(r'matFiles\\COVIS-20230701T003002-diffuse1.mat')"
   ]
  },
  {
   "cell_type": "code",
   "execution_count": 302,
   "metadata": {},
   "outputs": [],
   "source": [
    "def plotFullImaging3DV1(fileInName, opt2):\n",
    "    coordsOfInterest = createCoordsOfInterest(fileInName, '3', opt2)\n",
    "    fig = plt.figure(figsize=(12, 8))\n",
    "    ax = fig.add_subplot(111, projection='3d')\n",
    "\n",
    "    coordsOfInterest['vList'] = np.log10(coordsOfInterest['vList'])\n",
    "    max = np.floor(np.amax(coordsOfInterest['vList']))\n",
    "    min = np.ceil(np.amin(coordsOfInterest['vList']))\n",
    "\n",
    "    scatter = ax.scatter(coordsOfInterest['xList'], coordsOfInterest['yList'], coordsOfInterest['zList'], c = coordsOfInterest['vList'], cmap = 'viridis')\n",
    "    \n",
    "    cbar = plt.colorbar(scatter)\n",
    "    cbar.set_label(f'{opt2} Values')\n",
    "    cbar_ticks = np.arange(min, max + 1)\n",
    "    cbar.set_ticks(cbar_ticks)\n",
    "\n",
    "    ax.set_xlabel('East of COVIS (m)')\n",
    "    ax.set_ylabel('North of COVIS (m)')\n",
    "    ax.set_zlabel('Z Axis')\n",
    "    ax.set_title(f'3D Scatter Plot (Logarithmic scale, {opt2})')\n",
    "\n",
    "    plt.show()"
   ]
  },
  {
   "cell_type": "code",
   "execution_count": null,
   "metadata": {},
   "outputs": [],
   "source": [
    "plotFullImaging3DV1(r'matFiles\\COVIS-20230101T000002-imaging1.mat', 'Ia')\n",
    "plotFullImaging3DV1(r'matFiles\\COVIS-20230101T000002-imaging1.mat', 'Id')\n",
    "plotFullImaging3DV1(r'matFiles\\COVIS-20230101T000002-imaging1.mat', 'Ia_filt')\n",
    "plotFullImaging3DV1(r'matFiles\\COVIS-20230101T000002-imaging1.mat', 'Id_filt')\n",
    "plotFullImaging3DV1(r'matFiles\\COVIS-20230101T000002-imaging1.mat', 'Kp')"
   ]
  },
  {
   "cell_type": "code",
   "execution_count": 332,
   "metadata": {},
   "outputs": [],
   "source": [
    "def plotFullImaging3DV2(fileInName, opt2):\n",
    "    coordsOfInterest = createCoordsOfInterest(fileInName, '3', opt2)\n",
    "\n",
    "    coordsOfInterest['vList'] = np.log10(coordsOfInterest['vList'])\n",
    "    max = np.floor(np.amax(coordsOfInterest['vList']))\n",
    "    min = np.ceil(np.amin(coordsOfInterest['vList']))\n",
    "\n",
    "    fig = go.Figure(data=go.Isosurface(\n",
    "        x = coordsOfInterest['xList'],\n",
    "        y = coordsOfInterest['yList'],\n",
    "        z = coordsOfInterest['zList'],\n",
    "        value = coordsOfInterest['vList'],\n",
    "        colorscale  = 'Viridis',\n",
    "        isomin = min,\n",
    "        isomax = max,\n",
    "        surface_count=100,\n",
    "        caps=dict(x_show=False, y_show=False, z_show=False)\n",
    "    ))\n",
    "\n",
    "    fig.update_layout(\n",
    "        title=f'3D Isosurface Plot (Logarithmic scale, {opt2})',\n",
    "        scene=dict(\n",
    "            xaxis_title='East of COVIS (m)',\n",
    "            yaxis_title='North of COVIS (m)',\n",
    "            zaxis_title='Z Axis',\n",
    "        ),\n",
    "        coloraxis_colorbar=dict(\n",
    "            title=f'{opt2} Values',\n",
    "            tickvals=np.linspace(min, max, num=5),\n",
    "            ticktext=[f'{val:.2e}' for val in np.linspace(min, max, num=5)]\n",
    "        )\n",
    "    )\n",
    "\n",
    "    fig.show()\n"
   ]
  },
  {
   "cell_type": "code",
   "execution_count": null,
   "metadata": {},
   "outputs": [],
   "source": [
    "plotFullImaging3DV2(r'matFiles\\COVIS-20230101T000002-imaging1.mat', 'Ia')"
   ]
  },
  {
   "cell_type": "code",
   "execution_count": 304,
   "metadata": {},
   "outputs": [],
   "source": [
    "def plotDiffuseBathymetry(fileInName):\n",
    "    coordsOfInterest = createCoordsOfInterest(fileInName, '4', bathyFile = r'matFiles\\covis_bathy_2019b.mat')\n",
    "    fig = plt.figure(figsize=(12, 8))\n",
    "    ax = fig.add_subplot(111, projection='3d')\n",
    "\n",
    "    coordsOfInterest['zList'] = np.nan_to_num(np.array(coordsOfInterest['zList']))\n",
    "    for key in coordsOfInterest.keys():\n",
    "        coordsOfInterest[key] = coordsOfInterest[key][:len(coordsOfInterest['zList'])]\n",
    "\n",
    "    coordsOfInterest['vList'] = np.log10(coordsOfInterest['vList'])\n",
    "    max = np.floor(np.amax(coordsOfInterest['vList']))\n",
    "    min = np.ceil(np.amin(coordsOfInterest['vList']))\n",
    "\n",
    "    scatter = ax.scatter(coordsOfInterest['xList'], coordsOfInterest['yList'], coordsOfInterest['zList'], c = coordsOfInterest['vList'], cmap = 'viridis')\n",
    "\n",
    "    cbar = plt.colorbar(scatter)\n",
    "    cbar.set_label('Values')\n",
    "    cbar_ticks = np.arange(min, max + 1)\n",
    "    cbar.set_ticks(cbar_ticks)\n",
    "\n",
    "    ax.set_xlabel('East of COVIS (m)')\n",
    "    ax.set_ylabel('North of COVIS (m)')\n",
    "    ax.set_zlabel('Z Axis')\n",
    "    ax.set_title(f'Diffuse Draped over Bathymetry (Logarithmic scale)')\n",
    "\n",
    "    plt.show()"
   ]
  },
  {
   "cell_type": "code",
   "execution_count": null,
   "metadata": {},
   "outputs": [],
   "source": [
    "plotDiffuseBathymetry(r'matFiles\\COVIS-20230701T003002-diffuse1.mat')"
   ]
  },
  {
   "cell_type": "code",
   "execution_count": 324,
   "metadata": {},
   "outputs": [],
   "source": [
    "def createHistogram(fileInName, opt1, bins = 20):\n",
    "    coordsOfInterest = createCoordsOfInterest(fileInName, opt1)\n",
    "    plt.figure(figsize=(10, 6))\n",
    "    plt.hist(coordsOfInterest['vList'], bins=bins, edgecolor='black', alpha=0.7)\n",
    "    plt.yscale('log')\n",
    "\n",
    "    \n",
    "    plt.title('Distribution of values')\n",
    "    plt.xlabel('Values')\n",
    "    plt.ylabel('Counts')\n",
    "    \n",
    "    plt.show()"
   ]
  },
  {
   "cell_type": "code",
   "execution_count": null,
   "metadata": {},
   "outputs": [],
   "source": [
    "createHistogram(r'matFiles\\COVIS-20230701T003002-diffuse1.mat', opt1 = '2', bins = 50)"
   ]
  }
 ],
 "metadata": {
  "kernelspec": {
   "display_name": "Python 3",
   "language": "python",
   "name": "python3"
  },
  "language_info": {
   "codemirror_mode": {
    "name": "ipython",
    "version": 3
   },
   "file_extension": ".py",
   "mimetype": "text/x-python",
   "name": "python",
   "nbconvert_exporter": "python",
   "pygments_lexer": "ipython3",
   "version": "3.12.1"
  }
 },
 "nbformat": 4,
 "nbformat_minor": 2
}
