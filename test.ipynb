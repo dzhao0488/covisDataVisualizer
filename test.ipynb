{
 "cells": [
  {
   "cell_type": "code",
   "execution_count": 53,
   "metadata": {
    "metadata": {}
   },
   "outputs": [],
   "source": [
    "import scipy\n",
    "import json\n",
    "import matplotlib.pyplot as plt"
   ]
  },
  {
   "cell_type": "code",
   "execution_count": null,
   "metadata": {
    "metadata": {}
   },
   "outputs": [],
   "source": [
    "fileInName = r'matFiles\\COVIS-20230701T003002-diffuse1.mat'\n",
    "fileOutName = 'test.json'\n",
    "with open(fileInName, 'r') as fileIn, open(fileOutName, 'w') as fileOut:\n",
    "        fileContents = scipy.io.loadmat(fileInName)\n",
    "        covisDict = {}\n",
    "        covisDict['header'] = fileContents['__header__'].decode('utf-8')\n",
    "        covisDict['version'] = fileContents['__version__']\n",
    "        covisDict['globals'] = fileContents['__globals__']\n",
    "        covis = fileContents['covis'][0][0]\n",
    "        for name in covis.dtype.names:\n",
    "            covisDict[name] = covis[name][0]\n",
    "        \n",
    "        print(f'{fileInName} successfully converted')\n",
    "\n",
    "# print(covisDict['grid'][0][0][0]['x'])\n",
    "# print(covisDict['grid'][0][0][0]['y'])\n",
    "# print(covisDict['grid'][0][0][0]['v'])\n",
    "# print(covisDict['grid'][0][0][0]['w'])\n",
    "xList = [x for x in covisDict['grid'][0][0][0]['x']]\n",
    "yList = [y for y in covisDict['grid'][0][0][0]['y']]\n",
    "vList = [v for v in covisDict['grid'][0][0][0]['v']]\n",
    "wList = [w for w in covisDict['grid'][0][0][0]['w']]\n",
    "vList\n"
   ]
  },
  {
   "cell_type": "code",
   "execution_count": null,
   "metadata": {
    "metadata": {}
   },
   "outputs": [],
   "source": [
    "xList = [x for x in covisDict['grid'][0][0][0]['x'][0, ]]\n",
    "yList = [y for y in covisDict['grid'][0][0][0]['y'][0, ]]\n",
    "vList = [v for v in covisDict['grid'][0][0][0]['v'][0, ]]\n",
    "wList = [w for w in covisDict['grid'][0][0][0]['w'][0, ]]"
   ]
  },
  {
   "cell_type": "code",
   "execution_count": 55,
   "metadata": {
    "metadata": {}
   },
   "outputs": [],
   "source": [
    "def convertFile(fileInName):   \n",
    "    with open(fileInName, 'r') as fileIn:\n",
    "        fileContents = scipy.io.loadmat(fileInName)\n",
    "        covisDict = {}\n",
    "        covisDict['header'] = fileContents['__header__'].decode('utf-8')\n",
    "        covisDict['version'] = fileContents['__version__']\n",
    "        covisDict['globals'] = fileContents['__globals__']\n",
    "        covis = fileContents['covis'][0][0]\n",
    "        for name in covis.dtype.names:\n",
    "            covisDict[name] = covis[name][0]\n",
    "        \n",
    "        print(f'{fileInName} has been converted')\n",
    "        return covisDict\n",
    "\n",
    "def readCoords(fileInName):\n",
    "    with open(fileInName) as fileIn:\n",
    "        covisDict = convertFile(fileInName)\n",
    "        xList = [x for x in covisDict['grid'][0][0][0][6][0, ]]\n",
    "        yList = [y for y in covisDict['grid'][0][0][0][7][0, ]]\n",
    "        vList = [v for v in covisDict['grid'][0][0][0][8][0, ]]\n",
    "        wList = [w for w in covisDict['grid'][0][0][0][9][0, ]]"
   ]
  },
  {
   "cell_type": "code",
   "execution_count": null,
   "metadata": {},
   "outputs": [],
   "source": []
  }
 ],
 "metadata": {
  "kernelspec": {
   "display_name": "Python 3",
   "language": "python",
   "name": "python3"
  },
  "language_info": {
   "codemirror_mode": {
    "name": "ipython",
    "version": 3
   },
   "file_extension": ".py",
   "mimetype": "text/x-python",
   "name": "python",
   "nbconvert_exporter": "python",
   "pygments_lexer": "ipython3",
   "version": "3.12.1"
  }
 },
 "nbformat": 4,
 "nbformat_minor": 2
}
